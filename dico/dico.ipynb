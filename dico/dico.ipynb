{
 "cells": [
  {
   "cell_type": "code",
   "execution_count": 13,
   "metadata": {},
   "outputs": [],
   "source": [
    "import numpy as np\n",
    "import os.path\n",
    "import re"
   ]
  },
  {
   "cell_type": "code",
   "execution_count": 14,
   "metadata": {},
   "outputs": [],
   "source": [
    "if not os.path.isfile(\"words.txt\"):\n",
    "    dump = []\n",
    "    with open(\"meral_mots_rares_et_anciens.txt\") as fin:\n",
    "        for line in fin:\n",
    "            if len(line) > 2:\n",
    "                dump.append(line.strip())\n",
    "    words = []\n",
    "    definitions = []\n",
    "    for entry in dump:\n",
    "        partition = entry.partition(':')\n",
    "        if partition[1] == ':':\n",
    "            words.append(partition[0].strip())\n",
    "            definitions.append(partition[2].strip())\n",
    "    words = words[2:-1]\n",
    "    definitions = definitions[2:-1]\n",
    "    with open(\"words.txt\", \"w\") as fout:\n",
    "        for i in range(len(words)):\n",
    "            print(words[i], file=fout)\n",
    "    with open(\"definitions.txt\", \"w\") as fout:\n",
    "        for i in range(len(words)):\n",
    "            print(definitions[i], file=fout)\n",
    "words = []\n",
    "definitions = []\n",
    "with open(\"words.txt\") as fin:\n",
    "    for line in fin:\n",
    "        words.append(line[:-1])  # [:-1] to remove \"\\n\"\n",
    "with open(\"definitions.txt\") as fin:\n",
    "    for line in fin:\n",
    "        definitions.append(line[:-1])"
   ]
  },
  {
   "cell_type": "code",
   "execution_count": 127,
   "metadata": {},
   "outputs": [],
   "source": [
    "nature_types = ['loc. adv. et famil.', 'loc. adv.', 'n. m. plur.', 'part. passé', 'n. f. plur.', 'n. m. et f.', 'v. tr. et int.', 'v. impers.', 'v. int.', 'adj.', 'v. t.', 'v. pr.', 'n. m.', 'n. f.', 'Adj.', 'adv.', 'verbe', 'part.', \"s. m.\", \"s. f.\"]\n",
    "corrections = {\n",
    "    'loc. adv. et famil.': 'loc. adv.',\n",
    "    'part. passé': 'adj.',\n",
    "    'Adj.': 'adj.',\n",
    "    'verbe.': 'v.',\n",
    "    'part.': 'adj.',\n",
    "    's. m.': 'n. m.',\n",
    "    's. f.': 'n. f.'\n",
    "}"
   ]
  },
  {
   "cell_type": "code",
   "execution_count": 128,
   "metadata": {},
   "outputs": [
    {
     "name": "stdout",
     "output_type": "stream",
     "text": [
      "92\n"
     ]
    }
   ],
   "source": [
    "natures2 = []\n",
    "definitions2 = []\n",
    "error_indices = []\n",
    "errors = []\n",
    "for i, x in enumerate(definitions):\n",
    "    found_something = False\n",
    "    for nature_type in nature_types:\n",
    "        index = x.find(nature_type)\n",
    "        if index > -1:\n",
    "            natures2.append(corrections[nature_type] if nature_type in corrections else nature_type)\n",
    "            definitions2.append(x[index + len(nature_type):].strip())\n",
    "            found_something = True\n",
    "            break\n",
    "    if not found_something:\n",
    "        error_indices.append(i)\n",
    "        errors.append('{} {} : {}'.format(i, words[i], definitions[i]))\n",
    "        natures2.append('')\n",
    "        definitions2.append('')\n",
    "print(len(errors))"
   ]
  },
  {
   "cell_type": "code",
   "execution_count": 129,
   "metadata": {},
   "outputs": [
    {
     "data": {
      "text/plain": [
       "(4824, 4824)"
      ]
     },
     "execution_count": 129,
     "metadata": {},
     "output_type": "execute_result"
    }
   ],
   "source": [
    "len(natures2), len(definitions2)"
   ]
  },
  {
   "cell_type": "code",
   "execution_count": 457,
   "metadata": {},
   "outputs": [],
   "source": [
    "idx = 0"
   ]
  },
  {
   "cell_type": "code",
   "execution_count": 453,
   "metadata": {},
   "outputs": [],
   "source": [
    "natures2[error_indices[idx]] = 'interj.'"
   ]
  },
  {
   "cell_type": "code",
   "execution_count": 454,
   "metadata": {},
   "outputs": [],
   "source": [
    "definitions2[error_indices[idx]] = 'Terme de chasse. Ce que l’on crie pour la vue du sanglier, Alman. du chasseur.'"
   ]
  },
  {
   "cell_type": "code",
   "execution_count": null,
   "metadata": {},
   "outputs": [],
   "source": [
    "idx += 1\n",
    "print(errors[idx])"
   ]
  },
  {
   "cell_type": "code",
   "execution_count": 473,
   "metadata": {},
   "outputs": [],
   "source": [
    "for i in range(len(natures2)):\n",
    "    if natures2[i] == 'v. int.':\n",
    "        natures2[i] = 'v. intr.'"
   ]
  },
  {
   "cell_type": "code",
   "execution_count": 474,
   "metadata": {},
   "outputs": [
    {
     "data": {
      "text/plain": [
       "{'adj.',\n",
       " 'adv.',\n",
       " 'conj.',\n",
       " 'interj.',\n",
       " 'loc. adv.',\n",
       " 'loc. nom.',\n",
       " 'n. f.',\n",
       " 'n. f. plur.',\n",
       " 'n. m.',\n",
       " 'n. m. plur.',\n",
       " 'pron.',\n",
       " 'prép.',\n",
       " 'v.',\n",
       " 'v. impers.',\n",
       " 'v. intr.',\n",
       " 'v. pr.',\n",
       " 'v. tr.'}"
      ]
     },
     "execution_count": 474,
     "metadata": {},
     "output_type": "execute_result"
    }
   ],
   "source": [
    "set(natures2)"
   ]
  },
  {
   "cell_type": "code",
   "execution_count": 475,
   "metadata": {},
   "outputs": [],
   "source": [
    "with open(\"natures.txt\", \"w\") as fout:\n",
    "    for i in range(len(natures2)):\n",
    "        print(natures2[i], file=fout)\n",
    "with open(\"definitions2.txt\", \"w\") as fout:\n",
    "    for i in range(len(definitions2)):\n",
    "        print(definitions2[i], file=fout)"
   ]
  },
  {
   "cell_type": "code",
   "execution_count": 481,
   "metadata": {},
   "outputs": [],
   "source": [
    "words = []\n",
    "definitions = []\n",
    "natures = []\n",
    "with open(\"words.txt\") as fin:\n",
    "    for line in fin:\n",
    "        words.append(line[:-1])  # [:-1] to remove \"\\n\"\n",
    "with open(\"natures.txt\") as fin:\n",
    "    for line in fin:\n",
    "        natures.append(line[:-1]) \n",
    "with open(\"definitions2.txt\") as fin:\n",
    "    for line in fin:\n",
    "        definitions.append(line[:-1]) \n",
    "data = []\n",
    "for i in range(len(words)):\n",
    "    data.append([words[i], definitions[i], natures[i]])\n",
    "data[5]"
   ]
  },
  {
   "cell_type": "code",
   "execution_count": 482,
   "metadata": {},
   "outputs": [
    {
     "data": {
      "text/plain": [
       "(4824, 4824, 4824)"
      ]
     },
     "execution_count": 482,
     "metadata": {},
     "output_type": "execute_result"
    }
   ],
   "source": [
    "len(words), len(definitions), len(natures)"
   ]
  },
  {
   "cell_type": "code",
   "execution_count": 483,
   "metadata": {},
   "outputs": [],
   "source": [
    "data = []\n",
    "for i in range(len(words)):\n",
    "    data.append([words[i], definitions[i], natures[i]])"
   ]
  },
  {
   "cell_type": "code",
   "execution_count": 489,
   "metadata": {},
   "outputs": [
    {
     "data": {
      "text/plain": [
       "['Abat-sons',\n",
       " 'Se dit des lames de bois recouvertes de plomb ou d’ardoises qui garantissent les beffrois de la pluie et renvoient le son vers le sol. Au plur. des abat-sons.',\n",
       " 'n. m.']"
      ]
     },
     "execution_count": 489,
     "metadata": {},
     "output_type": "execute_result"
    }
   ],
   "source": [
    "data[5]"
   ]
  }
 ],
 "metadata": {
  "kernelspec": {
   "display_name": "Python 3",
   "language": "python",
   "name": "python3"
  },
  "language_info": {
   "codemirror_mode": {
    "name": "ipython",
    "version": 3
   },
   "file_extension": ".py",
   "mimetype": "text/x-python",
   "name": "python",
   "nbconvert_exporter": "python",
   "pygments_lexer": "ipython3",
   "version": "3.7.6"
  }
 },
 "nbformat": 4,
 "nbformat_minor": 4
}
