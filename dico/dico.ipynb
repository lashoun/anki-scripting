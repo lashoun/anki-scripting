{
 "cells": [
  {
   "cell_type": "code",
   "execution_count": 36,
   "metadata": {},
   "outputs": [],
   "source": [
    "import numpy as np\n",
    "import os.path\n",
    "import re"
   ]
  },
  {
   "cell_type": "code",
   "execution_count": 32,
   "metadata": {},
   "outputs": [],
   "source": [
    "if not os.path.isfile(\"words.txt\"):\n",
    "    dump = []\n",
    "    with open(\"meral_mots_rares_et_anciens.txt\") as fin:\n",
    "        for line in fin:\n",
    "            if len(line) > 2:\n",
    "                dump.append(line.strip())\n",
    "    words = []\n",
    "    definitions = []\n",
    "    for entry in dump:\n",
    "        partition = entry.partition(':')\n",
    "        if partition[1] == ':':\n",
    "            words.append(partition[0].strip())\n",
    "            definitions.append(partition[2].strip())\n",
    "    words = words[2:]\n",
    "    definitions = definitions[2:]\n",
    "    with open(\"words.txt\", \"w\") as fout:\n",
    "        for i in range(len(words)):\n",
    "            print(words[i], file=fout)\n",
    "    with open(\"definitions.txt\", \"w\") as fout:\n",
    "        for i in range(len(words)):\n",
    "            print(definitions[i], file=fout)\n",
    "words = []\n",
    "definitions = []\n",
    "with open(\"words.txt\") as fin:\n",
    "    for line in fin:\n",
    "        words.append(line[:-1])  # [:-1] to remove \"\\n\"\n",
    "with open(\"definitions.txt\") as fin:\n",
    "    for line in fin:\n",
    "        definitions.append(line[:-1])"
   ]
  },
  {
   "cell_type": "code",
   "execution_count": 33,
   "metadata": {},
   "outputs": [
    {
     "data": {
      "text/plain": [
       "'Abadir'"
      ]
     },
     "execution_count": 33,
     "metadata": {},
     "output_type": "execute_result"
    }
   ],
   "source": [
    "words[0]"
   ]
  },
  {
   "cell_type": "code",
   "execution_count": 35,
   "metadata": {},
   "outputs": [
    {
     "data": {
      "text/plain": [
       "['(a-ba-dir), n. f. Terme de Mythologie. C’est le nom d’une pierre que Saturne devora au lieu de Jupiter. (Furetière 1690).',\n",
       " '(a-ba-lour-dir), v. t. Rendre balourd, hébété. Populaire.',\n",
       " '(a-ba-k’), n. m. 1°Terme d’architecture. Tailloir, partie supérieure du chapiteau des colonnes, sur laquelle porte l’architrave 2°Terme d’antiquité. Tableau couvert de poussière, sur lequel on traçait des nombres et on enseignait le calcul.',\n",
       " '(a-ba-fin), n. m. Terme de cuisine. Pièce de résistance qu’on sert la première sur table. Au plur. des abat-faim.',\n",
       " '(a-ba-tor), n. m. Qui est entré en possession. Ce mot, dans les Tenures de Littleton, désigne celui qui s’est mis en possession, qui s’est saisi d’un héritage. (La Curne)',\n",
       " '(a-ba-son), n. m. Se dit des lames de bois recouvertes de plomb ou d’ardoises qui garantissent les beffrois de la pluie et renvoient le son vers le sol. Au plur. des abat-sons.',\n",
       " '(a-ba-tî), n. m. Terme de fortification. Défense accessoire consistant en un amas d’arbres entrelacés, liés ensemble et arrêtés sur le sol.',\n",
       " '(a – ba – tur’), n. f. plur. Terme de chasse. Trace qu’un cerf laisse dans les broussailles où il a passé. Le cerf se reconnaît à ses abattures.',\n",
       " 'n. m. Bisaïeul. Du latin abavus, de même qu’on a dit ave ou ayeul du latin avus, grand-père. \" Abave, grand ave \" (Bouteill. Som. Rur. p. 464.), (La Curne)',\n",
       " '(S’) (a-bô-sir), v. pr. Marine. Se mettre au beau. Le temps s’abeausit.']"
      ]
     },
     "execution_count": 35,
     "metadata": {},
     "output_type": "execute_result"
    }
   ],
   "source": [
    "definitions[:10]"
   ]
  },
  {
   "cell_type": "code",
   "execution_count": null,
   "metadata": {},
   "outputs": [],
   "source": []
  }
 ],
 "metadata": {
  "kernelspec": {
   "display_name": "Python 3",
   "language": "python",
   "name": "python3"
  },
  "language_info": {
   "codemirror_mode": {
    "name": "ipython",
    "version": 3
   },
   "file_extension": ".py",
   "mimetype": "text/x-python",
   "name": "python",
   "nbconvert_exporter": "python",
   "pygments_lexer": "ipython3",
   "version": "3.7.6"
  }
 },
 "nbformat": 4,
 "nbformat_minor": 4
}
